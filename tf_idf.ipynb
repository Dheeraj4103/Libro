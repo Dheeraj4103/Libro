{
 "cells": [
  {
   "cell_type": "code",
   "execution_count": 18,
   "id": "08018569-88b7-40d6-8d2f-b7f8232b6a5f",
   "metadata": {},
   "outputs": [
    {
     "name": "stdout",
     "output_type": "stream",
     "text": [
      "           Authors                                     Title\n",
      "0  MICHAEL ABBEY 외              ORACLE 9i A BEGINNER'S GUIDE\n",
      "1    Adrian Farrel           Network Management: Know It All\n",
      "2    Adrian Farrel           Network Management: Know It All\n",
      "3    Adrian Farrel           Network Management: Know It All\n",
      "4       Peter Abel  IBM PC Assembly Language and Programming\n"
     ]
    }
   ],
   "source": [
    "# Step 1: Data Preparation\n",
    "\n",
    "import pandas as pd\n",
    "data = pd.read_csv(\"book_details.csv\")\n",
    "data = pd.DataFrame(data)\n",
    "books = data\n",
    "print(data[[\"Authors\",\"Title\"]].head())"
   ]
  },
  {
   "cell_type": "code",
   "execution_count": 19,
   "id": "5d790470-0539-408f-b22d-8dd3451bc165",
   "metadata": {},
   "outputs": [],
   "source": [
    "# Step 2: TF-IDF Vectorization\n",
    "\n",
    "from sklearn.feature_extraction.text import TfidfVectorizer\n",
    "\n",
    "tfidf_vectorizer = TfidfVectorizer(stop_words='english')\n",
    "tfidf_matrix = tfidf_vectorizer.fit_transform(data['Title'] + \" \" + data['Authors'])"
   ]
  },
  {
   "cell_type": "code",
   "execution_count": 20,
   "id": "3e266a37-7e5f-4883-8ea6-4e4c12be6270",
   "metadata": {},
   "outputs": [],
   "source": [
    "# Step 3: BERT Embeddings\n",
    "\n",
    "from transformers import BertTokenizer, BertModel\n",
    "import torch\n",
    "import numpy as np\n",
    "tokenizer = BertTokenizer.from_pretrained('bert-base-uncased')\n",
    "model = BertModel.from_pretrained('bert-base-uncased')\n",
    "\n",
    "def get_bert_embedding(text):\n",
    "    inputs = tokenizer(text, return_tensors=\"pt\", truncation=True, padding=True, max_length=128)\n",
    "    with torch.no_grad():\n",
    "        output = model(**inputs)\n",
    "    return output['pooler_output'].numpy()\n",
    "\n",
    "bert_embeddings = np.array([get_bert_embedding(text)[0] for text in (data['Title'] + \" \" + data['Authors'])])"
   ]
  },
  {
   "cell_type": "code",
   "execution_count": 21,
   "id": "ca0839d8-8284-4461-bf83-52262e4831c8",
   "metadata": {},
   "outputs": [],
   "source": [
    "# Step 4: Combining TF-IDF and BERT\n",
    "\n",
    "from sklearn.metrics.pairwise import cosine_similarity\n",
    "\n",
    "def get_combined_similarities(query):\n",
    "    query_tfidf = tfidf_vectorizer.transform([query])\n",
    "    query_bert = get_bert_embedding(query)\n",
    "    \n",
    "    tfidf_similarities = cosine_similarity(query_tfidf, tfidf_matrix)\n",
    "    bert_similarities = cosine_similarity(query_bert, bert_embeddings)\n",
    "    \n",
    "    combined_similarities = 0.5 * tfidf_similarities + 0.5 * bert_similarities\n",
    "    \n",
    "    return combined_similarities[0]  # Return the flattened array"
   ]
  },
  {
   "cell_type": "code",
   "execution_count": 22,
   "id": "3dee1b3c-a676-495c-9a8b-9fbd62db5cf2",
   "metadata": {},
   "outputs": [],
   "source": [
    "# Step 5: Recommendation Logic\n",
    "\n",
    "import numpy as np\n",
    "\n",
    "def recommend(query):\n",
    "    combined_similarities = get_combined_similarities(query)\n",
    "    \n",
    "    recommended_books_indices = np.argsort(combined_similarities)[::-1][:5]  # Top 10 recommendations\n",
    "    \n",
    "    return data.iloc[recommended_books_indices]"
   ]
  },
  {
   "cell_type": "code",
   "execution_count": 23,
   "id": "4d7a449a-e3b2-4760-b5eb-e0eb5fc0bea5",
   "metadata": {},
   "outputs": [
    {
     "name": "stdout",
     "output_type": "stream",
     "text": [
      "                                 Title              Authors  \\\n",
      "15  Star Schema The Complete Reference  Christopher Adamson   \n",
      "14  Star Schema The Complete Reference  Christopher Adamson   \n",
      "1      Network Management: Know It All        Adrian Farrel   \n",
      "2      Network Management: Know It All        Adrian Farrel   \n",
      "3      Network Management: Know It All        Adrian Farrel   \n",
      "\n",
      "                                          Description                Rating  \\\n",
      "15  The definitive guide to dimensional design for...  Rating not available   \n",
      "14  The definitive guide to dimensional design for...  Rating not available   \n",
      "1                           Description not available  Rating not available   \n",
      "2                           Description not available  Rating not available   \n",
      "3                           Description not available  Rating not available   \n",
      "\n",
      "             ISBN  \n",
      "15  9780071744324  \n",
      "14  9780071744324  \n",
      "1   9788131221563  \n",
      "2   9788131221563  \n",
      "3   9788131221563  \n"
     ]
    }
   ],
   "source": [
    "print(recommend(\"show me books on networking\"))"
   ]
  },
  {
   "cell_type": "code",
   "execution_count": null,
   "id": "9f09c3ce-2029-47c0-aad7-8438bf77c1fc",
   "metadata": {},
   "outputs": [],
   "source": []
  },
  {
   "cell_type": "code",
   "execution_count": null,
   "id": "4d6e5d84-e483-4294-8c20-c2508cf40030",
   "metadata": {},
   "outputs": [],
   "source": []
  }
 ],
 "metadata": {
  "kernelspec": {
   "display_name": "Python 3 (ipykernel)",
   "language": "python",
   "name": "python3"
  },
  "language_info": {
   "codemirror_mode": {
    "name": "ipython",
    "version": 3
   },
   "file_extension": ".py",
   "mimetype": "text/x-python",
   "name": "python",
   "nbconvert_exporter": "python",
   "pygments_lexer": "ipython3",
   "version": "3.11.3"
  }
 },
 "nbformat": 4,
 "nbformat_minor": 5
}
